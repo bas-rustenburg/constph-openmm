{
 "cells": [
  {
   "cell_type": "code",
   "execution_count": 1,
   "metadata": {
    "collapsed": true
   },
   "outputs": [],
   "source": [
    "# Notebook to play around with openmm and integrate how to implement constant salt simulations in the semi-grand\n",
    "# canonical ensemble."
   ]
  },
  {
   "cell_type": "code",
   "execution_count": 2,
   "metadata": {
    "collapsed": true
   },
   "outputs": [],
   "source": [
    "import numpy as np\n",
    "from numpy import random\n",
    "from simtk import openmm, unit\n",
    "from simtk.openmm import app\n",
    "import sys\n",
    "from sys import stdout\n",
    "# CONSTANTS\n",
    "kB = unit.BOLTZMANN_CONSTANT_kB * unit.AVOGADRO_CONSTANT_NA"
   ]
  },
  {
   "cell_type": "code",
   "execution_count": 3,
   "metadata": {
    "collapsed": true
   },
   "outputs": [],
   "source": [
    "# Loading a box of water and initialing a protoms simulation\n",
    "pdb = app.PDBFile('waterbox.pdb')\n",
    "forcefield = app.ForceField('tip3p.xml')\n",
    "system = forcefield.createSystem(pdb.topology,nonbondedMethod=app.PME, nonbondedCutoff=1.0*unit.nanometer, constraints=app.HBonds)\n",
    "integrator = openmm.LangevinIntegrator(300*unit.kelvin, 1/unit.picosecond, 0.002*unit.picoseconds)\n",
    "system.addForce(openmm.MonteCarloBarostat(1*unit.atmospheres, 300*unit.kelvin, 25))\n",
    "simulation = app.Simulation(pdb.topology, system, integrator)\n",
    "simulation.context.setPositions(pdb.positions)"
   ]
  },
  {
   "cell_type": "code",
   "execution_count": 4,
   "metadata": {
    "collapsed": false
   },
   "outputs": [
    {
     "name": "stdout",
     "output_type": "stream",
     "text": [
      "Minimizing energy...\n",
      "Running simulation...\n",
      "#\"Step\",\"Potential Energy (kJ/mole)\",\"Box Volume (nm^3)\"\n",
      "50,-18874.744203,15.6044457135\n",
      "100,-18824.3502152,15.5902731306\n"
     ]
    }
   ],
   "source": [
    "# Run a simulation\n",
    "print \"Minimizing energy...\"\n",
    "simulation.minimizeEnergy(maxIterations=25)\n",
    "\n",
    "simulation.context.setVelocitiesToTemperature(300*unit.kelvin)\n",
    "\n",
    "print \"Running simulation...\"\n",
    "simulation.reporters.append(app.PDBReporter('output.pdb',50))\n",
    "simulation.reporters.append(app.StateDataReporter(stdout,50,step=True,potentialEnergy=True,volume=True))\n",
    "simulation.step(100)"
   ]
  },
  {
   "cell_type": "code",
   "execution_count": 5,
   "metadata": {
    "collapsed": false
   },
   "outputs": [
    {
     "name": "stdout",
     "output_type": "stream",
     "text": [
      "HarmonicBondForce\n",
      "HarmonicAngleForce\n",
      "NonbondedForce\n",
      "CMMotionRemover\n",
      "MonteCarloBarostat\n",
      "[<simtk.openmm.openmm.NonbondedForce; proxy of <Swig Object of type 'OpenMM::NonbondedForce *' at 0x10b0a6180> >]\n"
     ]
    },
    {
     "data": {
      "text/plain": [
       "[Quantity(value=0.417, unit=elementary charge),\n",
       " Quantity(value=1.0, unit=nanometer),\n",
       " Quantity(value=0.0, unit=kilojoule/mole)]"
      ]
     },
     "execution_count": 5,
     "metadata": {},
     "output_type": "execute_result"
    }
   ],
   "source": [
    "# Trying to understand the force class:\n",
    "forces = []\n",
    "for force_index in range(system.getNumForces()):\n",
    "    force = system.getForce(force_index)\n",
    "    forces.append(force)\n",
    "    print force.__class__.__name__\n",
    "\n",
    "#force_type = \"\"\n",
    "#force_index = 0\n",
    "#while force_type != system.getForce(force_index)__class__.__name__\n",
    "#    non_bonded_force    \n",
    "    \n",
    "    \n",
    "force_classes_to_update = ['NonbondedForce']\n",
    "forces_to_update = list()\n",
    "for force_index in range(system.getNumForces()):\n",
    "    force = system.getForce(force_index)\n",
    "    if force.__class__.__name__ in force_classes_to_update:\n",
    "        forces_to_update.append(force)    \n",
    "print forces_to_update\n",
    "\n",
    "forces_to_update[0].getParticleParameters(119)"
   ]
  },
  {
   "cell_type": "code",
   "execution_count": 6,
   "metadata": {
    "collapsed": false
   },
   "outputs": [
    {
     "name": "stdout",
     "output_type": "stream",
     "text": [
      "[Quantity(value=0.417, unit=elementary charge), Quantity(value=1.0, unit=nanometer), Quantity(value=0.0, unit=kilojoule/mole)]\n",
      "[Quantity(value=1.0, unit=elementary charge), Quantity(value=0.1, unit=nanometer), Quantity(value=1.0, unit=kilojoule/mole)]\n"
     ]
    }
   ],
   "source": [
    "# Seeing how to update forces\n",
    "force = forces[2]\n",
    "print force.getParticleParameters(100)\n",
    "force.setParticleParameters(100,charge=1,sigma=0.1,epsilon=1)\n",
    "print force.getParticleParameters(100)"
   ]
  },
  {
   "cell_type": "code",
   "execution_count": 7,
   "metadata": {
    "collapsed": false
   },
   "outputs": [
    {
     "name": "stdout",
     "output_type": "stream",
     "text": [
      "<bound method Residue.atoms of <Residue 0 (HOH) of chain 0>>\n",
      "old potential energy =  -18824.3502152 kJ/mol\n",
      "Using these water residues [149 144]\n",
      "1.0\n"
     ]
    }
   ],
   "source": [
    "force_class_to_update = ['NonbondedForce']\n",
    "for force_index in range(system.getNumForces()):\n",
    "    force = system.getForce(force_index)\n",
    "    if force.__class__.__name__ in force_class_to_update:\n",
    "        forces_to_update = force   \n",
    "#print forces_to_update\n",
    "\n",
    "forces_to_update.getParticleParameters(119)\n",
    "# Find water molecules. \n",
    "# Loop okay for now, but better to loop once and update the list per exchange\n",
    "\n",
    "water_identities =  np.zeros(pdb.topology.residues.im_self.getNumResidues())  \n",
    "water_residue_names=('WAT', 'HOH', 'TP4', 'TP5', 'T4E')\n",
    "water_residues = list()\n",
    "k=0\n",
    "for residue in pdb.topology.residues():\n",
    "    if residue.name in water_residue_names:\n",
    "        water_residues.append(residue)\n",
    "        water_identities[k] = 1\n",
    "    k += 1    \n",
    "\n",
    "#print water_identities\n",
    " \n",
    "print water_residues[0].atoms\n",
    "    \n",
    "water_identities =  np.zeros(pdb.topology.residues.im_self.getNumResidues())        \n",
    "#print pdb.topology.residues()\n",
    "\n",
    "        \n",
    "# Get current energy\n",
    "state = simulation.context.getState(getEnergy=True)        \n",
    "pot_energy_old = state.getPotentialEnergy()\n",
    "\n",
    "print \"old potential energy = \", pot_energy_old\n",
    "\n",
    "# Select random water molecules\n",
    "# Here could add the option to create multiple pairs of waters options for configurational biasing\n",
    "indices = np.random.random_integers(low=0,high=len(water_residues),size=2)    \n",
    "print \"Using these water residues\", indices\n",
    "\n",
    "num_wat_atoms = 3\n",
    "cation_parameters = [{'charge': 0.0, 'sigma': 0.0, 'epsilon': 0.0}]*num_wat_atoms\n",
    "cation_parameters[0] = {'charge': 1.0, 'sigma': 0.4477657, 'epsilon': 0.148912744}\n",
    "#print cation_parameters\n",
    "\n",
    "target_force = cation_parameters[0]\n",
    "print target_force[\"charge\"]\n"
   ]
  },
  {
   "cell_type": "code",
   "execution_count": 8,
   "metadata": {
    "collapsed": false
   },
   "outputs": [
    {
     "data": {
      "text/plain": [
       "<bound method Residue.atoms of <Residue 1 (HOH) of chain 0>>"
      ]
     },
     "execution_count": 8,
     "metadata": {},
     "output_type": "execute_result"
    }
   ],
   "source": [
    "w=water_residues[1]\n",
    "w.atoms"
   ]
  },
  {
   "cell_type": "code",
   "execution_count": 9,
   "metadata": {
    "collapsed": false
   },
   "outputs": [
    {
     "name": "stdout",
     "output_type": "stream",
     "text": [
      "here are the waters [  0   1   2   3   4   5   6   7   8   9  10  11  12  13  14  15  16  17\n",
      "  18  19  20  21  22  23  24  25  26  27  28  29  30  31  32  33  34  35\n",
      "  36  37  38  39  40  41  42  43  44  45  46  47  48  49  50  51  52  53\n",
      "  54  55  56  57  58  59  60  61  62  63  64  65  66  67  68  69  70  71\n",
      "  72  73  74  75  76  77  78  79  80  81  82  83  84  85  86  87  88  89\n",
      "  90  91  92  93  94  95  96  97  98  99 100 101 102 103 104 105 106 107\n",
      " 108 109 110 111 112 113 114 115 116 117 118 119 120 121 122 123 124 125\n",
      " 126 127 128 129 130 131 132 133 134 135 136 137 138 139 140 141 142 143\n",
      " 144 145 146 147 148 149 150 151 152 153 154 155 156 157 158 159 160 161\n",
      " 162 163 164 165 166 167 168 169 170 171 172 173 174 175 176 177 178 179\n",
      " 180 181 182 183 184 185 186 187 188 189 190 191 192 193 194 195 196 197\n",
      " 198 199 200 201 202 203 204 205 206 207 208 209 210 211 212 213 214 215\n",
      " 216 217 218 219 220 221 222 223 224 225 226 227 228 229 230 231 232 233\n",
      " 234 235 236 237 238 239 240 241 242 243 244 245 246 247 248 249 250 251\n",
      " 252 253 254 255 256 257 258 259 260 261 262 263 264 265 266 267 268 269\n",
      " 270 271 272 273 274 275 276 277 278 279 280 281 282 283 284 285 286 287\n",
      " 288 289 290 291 292 293 294 295 296 297 298 299 300 301 302 303 304 305\n",
      " 306 307 308 309 310 311 312 313 314 315 316 317 318 319 320 321 322 323\n",
      " 324 325 326 327 328 329 330 331 332 333 334 335 336 337 338 339 340 341\n",
      " 342 343 344 345 346 347 348 349 350 351 352 353 354 355 356 357 358 359\n",
      " 360 361 362 363 364 365 366 367 368 369 370 371 372 373 374 375 376 377\n",
      " 378 379 380 381 382 383 384 385 386 387 388 389 390 391 392 393 394 395\n",
      " 396 397 398 399 400 401 402 403 404 405 406 407 408 409 410 411 412 413\n",
      " 414 415 416 417 418 419 420 421 422 423 424 425 426 427 428 429 430 431\n",
      " 432 433 434 435 436 437 438 439 440 441 442 443 444 445 446 447 448 449\n",
      " 450 451 452 453 454 455 456 457 458 459 460 461 462 463 464 465 466 467\n",
      " 468 469 470 471 472 473 474 475 476 477 478 479 480 481 482 483 484 485\n",
      " 486 487 488 489 490 491 492 493 494 495 496 497 498 499 500]\n"
     ]
    },
    {
     "data": {
      "text/plain": [
       "array([442, 255])"
      ]
     },
     "execution_count": 9,
     "metadata": {},
     "output_type": "execute_result"
    }
   ],
   "source": [
    "res =water_residues[2]\n",
    "indices = [res.index for res in water_residues]\n",
    "#print indices\n",
    "\n",
    "stateMatrix = np.zeros((3,pdb.topology.residues.im_self.getNumResidues()))\n",
    "water_indices = [res.index for res in water_residues]\n",
    "stateMatrix[0,water_indices] = 1\n",
    "#print stateMatrix\n",
    "\n",
    "print \"here are the waters\",np.where(stateMatrix[0] == 1)[0]\n",
    "#np.random.choice\n",
    "\n",
    "np.random.choice(a=np.where(stateMatrix[0] == 1)[0],size=2)"
   ]
  },
  {
   "cell_type": "code",
   "execution_count": 10,
   "metadata": {
    "collapsed": false,
    "scrolled": false
   },
   "outputs": [
    {
     "name": "stdout",
     "output_type": "stream",
     "text": [
      "<Residue 1 (HOH) of chain 0>\n",
      "[<Atom 0 (O) of chain 0 residue 0 (HOH)>, <Atom 1 (H1) of chain 0 residue 0 (HOH)>, <Atom 2 (H2) of chain 0 residue 0 (HOH)>]\n",
      "\n",
      " for atom 0, current force parameters are [Quantity(value=-0.834, unit=elementary charge), Quantity(value=0.3150752406575124, unit=nanometer), Quantity(value=0.635968, unit=kilojoule/mole)]\n",
      "\n",
      " will attempt change to {'epsilon': 0.148912744, 'charge': 1.0, 'sigma': 0.4477657}\n",
      "\n",
      " for atom 1, current force parameters are [Quantity(value=0.417, unit=elementary charge), Quantity(value=1.0, unit=nanometer), Quantity(value=0.0, unit=kilojoule/mole)]\n",
      "\n",
      " will attempt change to {'epsilon': 0.0, 'charge': 0.0, 'sigma': 0.0}\n",
      "\n",
      " for atom 2, current force parameters are [Quantity(value=0.417, unit=elementary charge), Quantity(value=1.0, unit=nanometer), Quantity(value=0.0, unit=kilojoule/mole)]\n",
      "\n",
      " will attempt change to {'epsilon': 0.0, 'charge': 0.0, 'sigma': 0.0}\n",
      "-18684.963209 kJ/mol\n"
     ]
    }
   ],
   "source": [
    "print water_residues[1]\n",
    "# convert to cation:\n",
    "water = water_residues[indices[0]]\n",
    "molecule = [atom for atom in water.atoms()]\n",
    "print molecule\n",
    "ion_index=0\n",
    "for atom in molecule:\n",
    "    current_force = forces_to_update.getParticleParameters(atom.index)\n",
    "    print (\"\\n for atom %i, current force parameters are\" % atom.index), current_force\n",
    "    target_force = cation_parameters[ion_index]\n",
    "    print \"\\n will attempt change to\", target_force\n",
    "    forces_to_update.setParticleParameters(atom.index,charge=target_force[\"charge\"],sigma=target_force[\"sigma\"],epsilon=target_force[\"epsilon\"])\n",
    "    ion_index += 1\n",
    "\n",
    "# The force gets updated, which is why I may need to do a \"deep copy\"    \n",
    "forces_to_update.updateParametersInContext(simulation.context)    \n",
    "state = simulation.context.getState(getEnergy=True)    \n",
    "pot_energy_new = state.getPotentialEnergy()\n",
    "print pot_energy_new"
   ]
  },
  {
   "cell_type": "code",
   "execution_count": 11,
   "metadata": {
    "collapsed": false
   },
   "outputs": [
    {
     "name": "stdout",
     "output_type": "stream",
     "text": [
      "3\n",
      "[<Atom 3 (O) of chain 0 residue 1 (HOH)>, <Atom 4 (H1) of chain 0 residue 1 (HOH)>, <Atom 5 (H2) of chain 0 residue 1 (HOH)>]\n"
     ]
    }
   ],
   "source": [
    "water = water_residues[1]\n",
    "atoms = [atom for atom in water.atoms()]\n",
    "print atoms[0].index\n",
    "print atoms"
   ]
  },
  {
   "cell_type": "code",
   "execution_count": 12,
   "metadata": {
    "collapsed": false
   },
   "outputs": [
    {
     "ename": "SyntaxError",
     "evalue": "invalid syntax (<ipython-input-12-029315c248b3>, line 2)",
     "output_type": "error",
     "traceback": [
      "\u001b[0;36m  File \u001b[0;32m\"<ipython-input-12-029315c248b3>\"\u001b[0;36m, line \u001b[0;32m2\u001b[0m\n\u001b[0;31m    import constant-ions\u001b[0m\n\u001b[0m                   ^\u001b[0m\n\u001b[0;31mSyntaxError\u001b[0m\u001b[0;31m:\u001b[0m invalid syntax\n"
     ]
    }
   ],
   "source": [
    "sys.path.append(\"/Users/rossg/Work/semigrand-counterions\")\n",
    "import constant-ions"
   ]
  },
  {
   "cell_type": "code",
   "execution_count": null,
   "metadata": {
    "collapsed": false
   },
   "outputs": [],
   "source": [
    "force"
   ]
  },
  {
   "cell_type": "code",
   "execution_count": null,
   "metadata": {
    "collapsed": false
   },
   "outputs": [],
   "source": [
    "water_residies = identifyResidues(pdb.topology,residue_names = ('WAT', 'HOH', 'TP4', 'TP5', 'T4E'))\n",
    "print len(water_residues)"
   ]
  },
  {
   "cell_type": "code",
   "execution_count": null,
   "metadata": {
    "collapsed": true
   },
   "outputs": [],
   "source": []
  }
 ],
 "metadata": {
  "kernelspec": {
   "display_name": "Python 2",
   "language": "python",
   "name": "python2"
  },
  "language_info": {
   "codemirror_mode": {
    "name": "ipython",
    "version": 2
   },
   "file_extension": ".py",
   "mimetype": "text/x-python",
   "name": "python",
   "nbconvert_exporter": "python",
   "pygments_lexer": "ipython2",
   "version": "2.7.11"
  }
 },
 "nbformat": 4,
 "nbformat_minor": 0
}
